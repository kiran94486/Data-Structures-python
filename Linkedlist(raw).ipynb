{
 "cells": [
  {
   "cell_type": "markdown",
   "id": "85076850",
   "metadata": {},
   "source": [
    "# LinkedList"
   ]
  },
  {
   "cell_type": "code",
   "execution_count": 3,
   "id": "dcf9553b",
   "metadata": {},
   "outputs": [],
   "source": [
    "class Node:\n",
    "    def __init__(self,value):\n",
    "        self.data=value\n",
    "        self.next=None"
   ]
  },
  {
   "cell_type": "code",
   "execution_count": 4,
   "id": "199fe04d",
   "metadata": {},
   "outputs": [],
   "source": [
    "a=Node(1)"
   ]
  },
  {
   "cell_type": "code",
   "execution_count": 8,
   "id": "2f14a070",
   "metadata": {},
   "outputs": [
    {
     "name": "stdout",
     "output_type": "stream",
     "text": [
      "None\n",
      "1\n"
     ]
    }
   ],
   "source": [
    "print(a.next)\n",
    "print(a.data)"
   ]
  },
  {
   "cell_type": "code",
   "execution_count": 225,
   "id": "c49233ae",
   "metadata": {},
   "outputs": [],
   "source": [
    "class Linkedlist:\n",
    "    def __init__(self):\n",
    "        self.head = None\n",
    "        self.n = 0\n",
    "        \n",
    "    #Len fuction\n",
    "    def __len__(self):\n",
    "        return self.n\n",
    "    \n",
    "    #inserting through head\n",
    "    \n",
    "    def inser_head(self,value):\n",
    "        \n",
    "        #new node\n",
    "        new_node=Node(value)\n",
    "        \n",
    "        new_node.next=self.head\n",
    "        \n",
    "        self.head = new_node\n",
    "        \n",
    "        #increment\n",
    "        self.n=self.n +1\n",
    "        \n",
    "        #traverse # print\n",
    "    def __str__(self):\n",
    "        curr = self.head\n",
    "        \n",
    "        result = ''\n",
    "        \n",
    "        while curr != None:\n",
    "            result = result + str(curr.data) + '->'\n",
    "            curr = curr.next\n",
    "            \n",
    "        return result[:-2]\n",
    "    \n",
    "    #insert from tail\n",
    "    \n",
    "    def append(self,value):\n",
    "        new_node = Node(value)\n",
    "        if self.head == None:\n",
    "            self.head = new_node\n",
    "            self.n =self.n + 1\n",
    "            return\n",
    "\n",
    "        curr = self.head\n",
    "\n",
    "        while curr.next != None:\n",
    "            curr=curr.next\n",
    "\n",
    "            #you are at the last node [tail]\n",
    "\n",
    "        curr.next = new_node\n",
    "        self.n = self.n + 1\n",
    "        \n",
    "    def insert_aftr(self,after,value):\n",
    "        new_node=Node(value)\n",
    "        \n",
    "        curr = self.head\n",
    "        \n",
    "        while curr != None:\n",
    "            if curr.data == after:\n",
    "                break\n",
    "            curr = curr.next\n",
    "            \n",
    "#         print(curr.data) \n",
    "        \n",
    "        if curr!=None:\n",
    "            #logic\n",
    "            new_node.next = curr.next\n",
    "            curr.next=new_node\n",
    "            self.n = self.n + 1\n",
    "        else:\n",
    "            return \"Item not found\"\n",
    "        \n",
    "        #############Deletion codes#################\n",
    "        #1.Emptying the whole list\n",
    "        \n",
    "    def clear(self):\n",
    "        self.head = None\n",
    "        self.n = 0\n",
    "            \n",
    "        #Easy Peacy\n",
    "        \n",
    "    #delete from head\n",
    "    \n",
    "    def del_head(self):\n",
    "        \n",
    "        if self.head == None:\n",
    "            return \"empty linked list\"\n",
    "        \n",
    "        self.head=self.head.next\n",
    "        self.n = self.n - 1\n",
    "        \n",
    "    def pop(self):\n",
    "        \n",
    "        if self.head == None:\n",
    "            return 'Empty LinkedList'\n",
    "        \n",
    "        curr = self.head\n",
    "        \n",
    "        # what if nly 1 node\n",
    "        if curr.next == None:\n",
    "            return self.del_head()\n",
    "        \n",
    "        while curr.next.next != None:\n",
    "            curr = curr.next\n",
    "            \n",
    "        curr.next = None\n",
    "        self.n= self.n - 1\n",
    "        \n",
    "    #delete by value\n",
    "    def remove(self,value):\n",
    "        if self.head == None:\n",
    "            return \"Empty LinkedList\"\n",
    "        \n",
    "        if self.head.data == value:\n",
    "            return self.del_head()\n",
    "        curr = self.head\n",
    "        \n",
    "        while curr.next != None:\n",
    "            if curr.next.data == value:\n",
    "                break\n",
    "            curr = curr.next\n",
    "            \n",
    "        if curr.next == None:\n",
    "            return \"Not Found\"\n",
    "        else:\n",
    "            curr.next=curr.next.next\n",
    "            \n",
    "    #################Searching #####################\n",
    "    \n",
    "    def search(self,item):\n",
    "        curr = self.head\n",
    "        pos=0\n",
    "        \n",
    "        while curr != None:\n",
    "            if curr.data == item:\n",
    "                return pos\n",
    "            curr = curr.next\n",
    "            pos = pos + 1\n",
    "            \n",
    "        return \"Not Found\"\n",
    "    \n",
    "    #search by indexing l[]\n",
    "    def __getitem__(self,index):\n",
    "        \n",
    "        curr = self.head\n",
    "        pos = 0\n",
    "        \n",
    "        while curr!= None:\n",
    "            if pos == index:\n",
    "                return curr.data\n",
    "            curr = curr.next\n",
    "            pos = pos = 1\n",
    "            \n",
    "        return \"Index error\"\n",
    "            \n",
    "            \n",
    "             \n",
    "        \n",
    "        \n",
    "            \n",
    "        \n",
    "\n",
    "\n",
    "        \n",
    "        \n",
    "        \n",
    "    \n",
    "    "
   ]
  },
  {
   "cell_type": "code",
   "execution_count": 226,
   "id": "0a04528c",
   "metadata": {},
   "outputs": [],
   "source": [
    "l=Linkedlist()"
   ]
  },
  {
   "cell_type": "code",
   "execution_count": 227,
   "id": "b33c937b",
   "metadata": {},
   "outputs": [],
   "source": [
    "l.inser_head(1)\n",
    "l.inser_head(2)\n",
    "l.inser_head(3)\n",
    "l.inser_head(4)"
   ]
  },
  {
   "cell_type": "code",
   "execution_count": 228,
   "id": "a86b8c01",
   "metadata": {},
   "outputs": [
    {
     "data": {
      "text/plain": [
       "4"
      ]
     },
     "execution_count": 228,
     "metadata": {},
     "output_type": "execute_result"
    }
   ],
   "source": [
    "len(l)"
   ]
  },
  {
   "cell_type": "code",
   "execution_count": 229,
   "id": "cda44902",
   "metadata": {},
   "outputs": [
    {
     "name": "stdout",
     "output_type": "stream",
     "text": [
      "4->3->2->1\n"
     ]
    }
   ],
   "source": [
    "print(l)"
   ]
  },
  {
   "cell_type": "code",
   "execution_count": 157,
   "id": "8a867db0",
   "metadata": {},
   "outputs": [],
   "source": [
    "l.append(5)"
   ]
  },
  {
   "cell_type": "code",
   "execution_count": 105,
   "id": "1e517d5b",
   "metadata": {},
   "outputs": [
    {
     "data": {
      "text/plain": [
       "'Item not found'"
      ]
     },
     "execution_count": 105,
     "metadata": {},
     "output_type": "execute_result"
    }
   ],
   "source": [
    "l.insert_aftr(2,200)"
   ]
  },
  {
   "cell_type": "code",
   "execution_count": 117,
   "id": "55e7b8af",
   "metadata": {},
   "outputs": [],
   "source": [
    "l.clear()"
   ]
  },
  {
   "cell_type": "code",
   "execution_count": 143,
   "id": "a14ea236",
   "metadata": {},
   "outputs": [
    {
     "data": {
      "text/plain": [
       "'empty linked list'"
      ]
     },
     "execution_count": 143,
     "metadata": {},
     "output_type": "execute_result"
    }
   ],
   "source": [
    "l.del_head()"
   ]
  },
  {
   "cell_type": "code",
   "execution_count": 149,
   "id": "e16a2e6b",
   "metadata": {},
   "outputs": [],
   "source": [
    "l.pop()"
   ]
  },
  {
   "cell_type": "code",
   "execution_count": 207,
   "id": "142a49c5",
   "metadata": {},
   "outputs": [
    {
     "data": {
      "text/plain": [
       "'Empty LinkedList'"
      ]
     },
     "execution_count": 207,
     "metadata": {},
     "output_type": "execute_result"
    }
   ],
   "source": [
    "l.remove(3)"
   ]
  },
  {
   "cell_type": "code",
   "execution_count": 214,
   "id": "7b5627ed",
   "metadata": {},
   "outputs": [
    {
     "name": "stdout",
     "output_type": "stream",
     "text": [
      "4->3->2->1\n"
     ]
    }
   ],
   "source": [
    "print(l)"
   ]
  },
  {
   "cell_type": "code",
   "execution_count": 217,
   "id": "1e2c159f",
   "metadata": {},
   "outputs": [
    {
     "data": {
      "text/plain": [
       "'Not Found'"
      ]
     },
     "execution_count": 217,
     "metadata": {},
     "output_type": "execute_result"
    }
   ],
   "source": [
    "l.search(3)"
   ]
  },
  {
   "cell_type": "code",
   "execution_count": 230,
   "id": "0fc24547",
   "metadata": {},
   "outputs": [
    {
     "data": {
      "text/plain": [
       "'Index error'"
      ]
     },
     "execution_count": 230,
     "metadata": {},
     "output_type": "execute_result"
    }
   ],
   "source": [
    "l[5]"
   ]
  },
  {
   "cell_type": "code",
   "execution_count": null,
   "id": "f6cc4c36",
   "metadata": {},
   "outputs": [],
   "source": []
  }
 ],
 "metadata": {
  "kernelspec": {
   "display_name": "Python 3 (ipykernel)",
   "language": "python",
   "name": "python3"
  },
  "language_info": {
   "codemirror_mode": {
    "name": "ipython",
    "version": 3
   },
   "file_extension": ".py",
   "mimetype": "text/x-python",
   "name": "python",
   "nbconvert_exporter": "python",
   "pygments_lexer": "ipython3",
   "version": "3.11.3"
  }
 },
 "nbformat": 4,
 "nbformat_minor": 5
}
