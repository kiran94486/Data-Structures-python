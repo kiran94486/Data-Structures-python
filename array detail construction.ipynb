{
 "cells": [
  {
   "cell_type": "markdown",
   "id": "afe2aa95",
   "metadata": {},
   "source": [
    "# DYNAMIC ARRAY [Deep coding] [List]"
   ]
  },
  {
   "cell_type": "code",
   "execution_count": null,
   "id": "fc0c8d41",
   "metadata": {},
   "outputs": [],
   "source": [
    "# Hii i am kirandeep this jupyter notebook contains important content of dynamic array and how the array internally works soo \n",
    "# this is pretty much important\n",
    "# ---- I AM SAYING THIS IS SOOO IMPORTANT IN DATA STRUCTURES------\n",
    "# I STARTED THIS LEARNING WHILE GOIN THROGH THE DATA STRUCTURES CONCEPTS----\n",
    "# This contains how an array and its functions are internally made from scratch\n",
    "# Even though its basic in python i doubt that most of the coders out their have no idea \n",
    "# How the hell dous all these works ryt?"
   ]
  },
  {
   "cell_type": "code",
   "execution_count": null,
   "id": "db9fb951",
   "metadata": {},
   "outputs": [],
   "source": [
    "#Here i have made a class call meraList and initialized a constuctor\n",
    "# --I have built functions such as \n",
    "#   ---len() \n",
    "#   ---append()\n",
    "#   ---pop()\n",
    "#   ---clear()\n",
    "#   ---print()\n",
    "#   ---index()\n",
    "#   ---find()\n",
    "#   ---delete()\n",
    "#   ---insert()\n",
    "#   ---remove()"
   ]
  },
  {
   "cell_type": "code",
   "execution_count": 2,
   "id": "0ec40138",
   "metadata": {},
   "outputs": [],
   "source": [
    "import ctypes"
   ]
  },
  {
   "cell_type": "code",
   "execution_count": 130,
   "id": "71d17f2b",
   "metadata": {},
   "outputs": [],
   "source": [
    "class meraList:\n",
    "    \n",
    "    def __init__(self):\n",
    "        self.size=1\n",
    "        self.n=0\n",
    "        \n",
    "        \n",
    "         #create a ctype array with size=self.size\n",
    "        self.A=self.__make_array(self.size)\n",
    "        \n",
    "    def __len__(self):\n",
    "        return self.n\n",
    "    \n",
    "    def append(self,item):\n",
    "        if self.n == self.size:\n",
    "            #resize\n",
    "            self.__resize(self.size*2)\n",
    "            \n",
    "        self.A[self.n] = item\n",
    "        self.n = self.n + 1\n",
    "        \n",
    "    def pop(self):\n",
    "        if self.n ==0:\n",
    "            return \"Empty List\"\n",
    "        print(self.A[self.n-1])\n",
    "        self.n = self.n-1\n",
    "        \n",
    "    def clear(self):\n",
    "        self.size=1\n",
    "        self.n=0\n",
    "        \n",
    "        \n",
    "    def __str__(self):\n",
    "        result = ''\n",
    "        for i in range(self.n):\n",
    "            result=result + str(self.A[i]) + ','\n",
    "            \n",
    "        return '[' + result[:-1] + ']'\n",
    "        \n",
    "    \n",
    "    def __resize(self,new_capacity):\n",
    "        \n",
    "        B = self.__make_array(new_capacity)\n",
    "        self.size = new_capacity\n",
    "        \n",
    "        #copy \n",
    "        for i in range(self.n):\n",
    "            B[i] = self.A[i]\n",
    "        \n",
    "        self.A = B\n",
    "        \n",
    "    def __getitem__(self,index):\n",
    "        if 0<= index < self.n:\n",
    "            return self.A[index]\n",
    "        else:\n",
    "            return 'IndexError - Index Out of Range'\n",
    "        \n",
    "    def find(self,num):\n",
    "        for i in range(self.n-1):\n",
    "            if self.A[i] == num:\n",
    "                return i\n",
    "            \n",
    "        return \"Not found in the list\"\n",
    "    \n",
    "    def insert(self,pos,item):\n",
    "        if self.n == self.size:\n",
    "            self.__resize(self.size*2)\n",
    "            \n",
    "        for i in range(self.n,pos,-1):\n",
    "            self.A[i] = self.A[i-1]\n",
    "            \n",
    "        self.A[pos] = item\n",
    "        self.n=self.n +1\n",
    "        \n",
    "    def __delitem__(self,pos):\n",
    "        if 0<= pos < self.n:\n",
    "            for i in range(pos,self.n-1):\n",
    "                self.A[i] = self.A[i+1]\n",
    "\n",
    "            self.n = self.n - 1\n",
    "            \n",
    "    def remove(self,item):\n",
    "        pos = self.find(item)\n",
    "        \n",
    "        if type(pos)== int:\n",
    "            self.__delitem__(pos)\n",
    "        else:\n",
    "            return pos\n",
    "        \n",
    "        \n",
    "    def __make_array(self,capacity):\n",
    "        #create a ctypes array with size capacity(static array)\n",
    "        return (capacity*ctypes.py_object)()"
   ]
  },
  {
   "cell_type": "code",
   "execution_count": 131,
   "id": "00da03ff",
   "metadata": {},
   "outputs": [],
   "source": [
    "l=meraList()"
   ]
  },
  {
   "cell_type": "code",
   "execution_count": 132,
   "id": "0964304f",
   "metadata": {},
   "outputs": [],
   "source": [
    "l.append('hello')\n",
    "l.append(3.4)\n",
    "l.append(34)\n",
    "l.append(True)\n",
    "l.append(64)"
   ]
  },
  {
   "cell_type": "code",
   "execution_count": 135,
   "id": "a2ed91e9",
   "metadata": {},
   "outputs": [
    {
     "name": "stdout",
     "output_type": "stream",
     "text": [
      "[3.4,34,True,64]\n"
     ]
    }
   ],
   "source": [
    "print(l)"
   ]
  },
  {
   "cell_type": "code",
   "execution_count": 46,
   "id": "366f185e",
   "metadata": {},
   "outputs": [
    {
     "data": {
      "text/plain": [
       "'Empty List'"
      ]
     },
     "execution_count": 46,
     "metadata": {},
     "output_type": "execute_result"
    }
   ],
   "source": [
    "l.pop()"
   ]
  },
  {
   "cell_type": "code",
   "execution_count": 51,
   "id": "77497fd9",
   "metadata": {},
   "outputs": [],
   "source": [
    "l.clear()"
   ]
  },
  {
   "cell_type": "code",
   "execution_count": 83,
   "id": "c206636e",
   "metadata": {},
   "outputs": [
    {
     "data": {
      "text/plain": [
       "1"
      ]
     },
     "execution_count": 83,
     "metadata": {},
     "output_type": "execute_result"
    }
   ],
   "source": [
    "l.find(3.4)"
   ]
  },
  {
   "cell_type": "code",
   "execution_count": 84,
   "id": "b088f6f7",
   "metadata": {},
   "outputs": [
    {
     "data": {
      "text/plain": [
       "<__main__.meraList at 0x2a50b0fa010>"
      ]
     },
     "execution_count": 84,
     "metadata": {},
     "output_type": "execute_result"
    }
   ],
   "source": [
    "l"
   ]
  },
  {
   "cell_type": "code",
   "execution_count": 100,
   "id": "898cdec1",
   "metadata": {},
   "outputs": [],
   "source": [
    "l.insert(2,56)"
   ]
  },
  {
   "cell_type": "code",
   "execution_count": 128,
   "id": "dd896122",
   "metadata": {},
   "outputs": [],
   "source": [
    "del l[100]"
   ]
  },
  {
   "cell_type": "code",
   "execution_count": 134,
   "id": "98ab0412",
   "metadata": {},
   "outputs": [],
   "source": [
    "l.remove('hello')"
   ]
  },
  {
   "cell_type": "code",
   "execution_count": null,
   "id": "fc75f5b0",
   "metadata": {},
   "outputs": [],
   "source": []
  }
 ],
 "metadata": {
  "kernelspec": {
   "display_name": "Python 3 (ipykernel)",
   "language": "python",
   "name": "python3"
  },
  "language_info": {
   "codemirror_mode": {
    "name": "ipython",
    "version": 3
   },
   "file_extension": ".py",
   "mimetype": "text/x-python",
   "name": "python",
   "nbconvert_exporter": "python",
   "pygments_lexer": "ipython3",
   "version": "3.11.3"
  }
 },
 "nbformat": 4,
 "nbformat_minor": 5
}
